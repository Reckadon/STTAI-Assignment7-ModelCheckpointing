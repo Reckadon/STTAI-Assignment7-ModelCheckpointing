{
  "nbformat": 4,
  "nbformat_minor": 0,
  "metadata": {
    "colab": {
      "provenance": [],
      "gpuType": "T4"
    },
    "kernelspec": {
      "name": "python3",
      "display_name": "Python 3"
    },
    "language_info": {
      "name": "python"
    },
    "accelerator": "GPU"
  },
  "cells": [
    {
      "cell_type": "markdown",
      "source": [
        "# Assignment 7 - Model Checkpointing\n",
        "\n",
        "Team 25, Members:     \n",
        "\n",
        "\n",
        "\n",
        "| Name | Roll Number |  \n",
        "| ------ | ------ |  \n",
        "| Romit Mohane | 23110279 |  \n",
        "| Rudra Pratap Singh | 23110281 |  \n",
        "\n",
        "## Introduction\n",
        "This assignment aims to learn about text classification tasks for checkpoint creation.\n"
      ],
      "metadata": {
        "id": "28rqhNRBdgmv"
      }
    },
    {
      "cell_type": "markdown",
      "source": [
        "---\n",
        "#### Importing Libraries"
      ],
      "metadata": {
        "id": "hq8Fv4D_e_Y3"
      }
    },
    {
      "cell_type": "code",
      "source": [
        "!pip install torchinfo\n",
        "!pip install transformers sentence-transformers"
      ],
      "metadata": {
        "colab": {
          "base_uri": "https://localhost:8080/"
        },
        "collapsed": true,
        "id": "Z-K5bnIcks9-",
        "outputId": "dbef23a4-8bb7-4fdf-f21f-4bee87add799"
      },
      "execution_count": 151,
      "outputs": [
        {
          "output_type": "stream",
          "name": "stdout",
          "text": [
            "Requirement already satisfied: torchinfo in /usr/local/lib/python3.11/dist-packages (1.8.0)\n",
            "Requirement already satisfied: transformers in /usr/local/lib/python3.11/dist-packages (4.48.3)\n",
            "Requirement already satisfied: sentence-transformers in /usr/local/lib/python3.11/dist-packages (3.4.1)\n",
            "Requirement already satisfied: filelock in /usr/local/lib/python3.11/dist-packages (from transformers) (3.17.0)\n",
            "Requirement already satisfied: huggingface-hub<1.0,>=0.24.0 in /usr/local/lib/python3.11/dist-packages (from transformers) (0.28.1)\n",
            "Requirement already satisfied: numpy>=1.17 in /usr/local/lib/python3.11/dist-packages (from transformers) (1.26.4)\n",
            "Requirement already satisfied: packaging>=20.0 in /usr/local/lib/python3.11/dist-packages (from transformers) (24.2)\n",
            "Requirement already satisfied: pyyaml>=5.1 in /usr/local/lib/python3.11/dist-packages (from transformers) (6.0.2)\n",
            "Requirement already satisfied: regex!=2019.12.17 in /usr/local/lib/python3.11/dist-packages (from transformers) (2024.11.6)\n",
            "Requirement already satisfied: requests in /usr/local/lib/python3.11/dist-packages (from transformers) (2.32.3)\n",
            "Requirement already satisfied: tokenizers<0.22,>=0.21 in /usr/local/lib/python3.11/dist-packages (from transformers) (0.21.0)\n",
            "Requirement already satisfied: safetensors>=0.4.1 in /usr/local/lib/python3.11/dist-packages (from transformers) (0.5.3)\n",
            "Requirement already satisfied: tqdm>=4.27 in /usr/local/lib/python3.11/dist-packages (from transformers) (4.67.1)\n",
            "Requirement already satisfied: torch>=1.11.0 in /usr/local/lib/python3.11/dist-packages (from sentence-transformers) (2.5.1+cu124)\n",
            "Requirement already satisfied: scikit-learn in /usr/local/lib/python3.11/dist-packages (from sentence-transformers) (1.6.1)\n",
            "Requirement already satisfied: scipy in /usr/local/lib/python3.11/dist-packages (from sentence-transformers) (1.14.1)\n",
            "Requirement already satisfied: Pillow in /usr/local/lib/python3.11/dist-packages (from sentence-transformers) (11.1.0)\n",
            "Requirement already satisfied: fsspec>=2023.5.0 in /usr/local/lib/python3.11/dist-packages (from huggingface-hub<1.0,>=0.24.0->transformers) (2024.10.0)\n",
            "Requirement already satisfied: typing-extensions>=3.7.4.3 in /usr/local/lib/python3.11/dist-packages (from huggingface-hub<1.0,>=0.24.0->transformers) (4.12.2)\n",
            "Requirement already satisfied: networkx in /usr/local/lib/python3.11/dist-packages (from torch>=1.11.0->sentence-transformers) (3.4.2)\n",
            "Requirement already satisfied: jinja2 in /usr/local/lib/python3.11/dist-packages (from torch>=1.11.0->sentence-transformers) (3.1.6)\n",
            "Requirement already satisfied: nvidia-cuda-nvrtc-cu12==12.4.127 in /usr/local/lib/python3.11/dist-packages (from torch>=1.11.0->sentence-transformers) (12.4.127)\n",
            "Requirement already satisfied: nvidia-cuda-runtime-cu12==12.4.127 in /usr/local/lib/python3.11/dist-packages (from torch>=1.11.0->sentence-transformers) (12.4.127)\n",
            "Requirement already satisfied: nvidia-cuda-cupti-cu12==12.4.127 in /usr/local/lib/python3.11/dist-packages (from torch>=1.11.0->sentence-transformers) (12.4.127)\n",
            "Requirement already satisfied: nvidia-cudnn-cu12==9.1.0.70 in /usr/local/lib/python3.11/dist-packages (from torch>=1.11.0->sentence-transformers) (9.1.0.70)\n",
            "Requirement already satisfied: nvidia-cublas-cu12==12.4.5.8 in /usr/local/lib/python3.11/dist-packages (from torch>=1.11.0->sentence-transformers) (12.4.5.8)\n",
            "Requirement already satisfied: nvidia-cufft-cu12==11.2.1.3 in /usr/local/lib/python3.11/dist-packages (from torch>=1.11.0->sentence-transformers) (11.2.1.3)\n",
            "Requirement already satisfied: nvidia-curand-cu12==10.3.5.147 in /usr/local/lib/python3.11/dist-packages (from torch>=1.11.0->sentence-transformers) (10.3.5.147)\n",
            "Requirement already satisfied: nvidia-cusolver-cu12==11.6.1.9 in /usr/local/lib/python3.11/dist-packages (from torch>=1.11.0->sentence-transformers) (11.6.1.9)\n",
            "Requirement already satisfied: nvidia-cusparse-cu12==12.3.1.170 in /usr/local/lib/python3.11/dist-packages (from torch>=1.11.0->sentence-transformers) (12.3.1.170)\n",
            "Requirement already satisfied: nvidia-nccl-cu12==2.21.5 in /usr/local/lib/python3.11/dist-packages (from torch>=1.11.0->sentence-transformers) (2.21.5)\n",
            "Requirement already satisfied: nvidia-nvtx-cu12==12.4.127 in /usr/local/lib/python3.11/dist-packages (from torch>=1.11.0->sentence-transformers) (12.4.127)\n",
            "Requirement already satisfied: nvidia-nvjitlink-cu12==12.4.127 in /usr/local/lib/python3.11/dist-packages (from torch>=1.11.0->sentence-transformers) (12.4.127)\n",
            "Requirement already satisfied: triton==3.1.0 in /usr/local/lib/python3.11/dist-packages (from torch>=1.11.0->sentence-transformers) (3.1.0)\n",
            "Requirement already satisfied: sympy==1.13.1 in /usr/local/lib/python3.11/dist-packages (from torch>=1.11.0->sentence-transformers) (1.13.1)\n",
            "Requirement already satisfied: mpmath<1.4,>=1.1.0 in /usr/local/lib/python3.11/dist-packages (from sympy==1.13.1->torch>=1.11.0->sentence-transformers) (1.3.0)\n",
            "Requirement already satisfied: charset-normalizer<4,>=2 in /usr/local/lib/python3.11/dist-packages (from requests->transformers) (3.4.1)\n",
            "Requirement already satisfied: idna<4,>=2.5 in /usr/local/lib/python3.11/dist-packages (from requests->transformers) (3.10)\n",
            "Requirement already satisfied: urllib3<3,>=1.21.1 in /usr/local/lib/python3.11/dist-packages (from requests->transformers) (2.3.0)\n",
            "Requirement already satisfied: certifi>=2017.4.17 in /usr/local/lib/python3.11/dist-packages (from requests->transformers) (2025.1.31)\n",
            "Requirement already satisfied: joblib>=1.2.0 in /usr/local/lib/python3.11/dist-packages (from scikit-learn->sentence-transformers) (1.4.2)\n",
            "Requirement already satisfied: threadpoolctl>=3.1.0 in /usr/local/lib/python3.11/dist-packages (from scikit-learn->sentence-transformers) (3.5.0)\n",
            "Requirement already satisfied: MarkupSafe>=2.0 in /usr/local/lib/python3.11/dist-packages (from jinja2->torch>=1.11.0->sentence-transformers) (3.0.2)\n"
          ]
        }
      ]
    },
    {
      "cell_type": "code",
      "source": [
        "import matplotlib.pyplot as plt\n",
        "import numpy as np\n",
        "import pandas as pd\n",
        "import torch\n",
        "from torch import nn\n",
        "from torch.utils.data import Dataset, DataLoader\n",
        "from sklearn.model_selection import train_test_split\n",
        "from sklearn.metrics import accuracy_score, confusion_matrix\n",
        "import seaborn as sns\n",
        "from torchinfo import summary"
      ],
      "metadata": {
        "id": "H9SYamc8fBhy"
      },
      "execution_count": 152,
      "outputs": []
    },
    {
      "cell_type": "markdown",
      "source": [
        "---\n",
        "### 1. Dataset Preparation\n"
      ],
      "metadata": {
        "id": "i36Ph7U-eMEA"
      }
    },
    {
      "cell_type": "markdown",
      "source": [
        "\n",
        "#### Downloading the Train and Test Sets using `wget`"
      ],
      "metadata": {
        "id": "r062-cwFeyf-"
      }
    },
    {
      "cell_type": "code",
      "execution_count": 153,
      "metadata": {
        "colab": {
          "base_uri": "https://localhost:8080/"
        },
        "id": "Y3mUu18acmAH",
        "outputId": "6a83416d-3706-4e07-df57-27dcc12b82d0"
      },
      "outputs": [
        {
          "output_type": "stream",
          "name": "stdout",
          "text": [
            "--2025-03-13 20:58:05--  https://raw.githubusercontent.com/clairett/pytorch-sentiment-classification/master/data/SST2/train.tsv\n",
            "Resolving raw.githubusercontent.com (raw.githubusercontent.com)... 185.199.108.133, 185.199.109.133, 185.199.110.133, ...\n",
            "Connecting to raw.githubusercontent.com (raw.githubusercontent.com)|185.199.108.133|:443... connected.\n",
            "HTTP request sent, awaiting response... 200 OK\n",
            "Length: 720259 (703K) [text/plain]\n",
            "Saving to: ‘train.tsv.2’\n",
            "\n",
            "\rtrain.tsv.2           0%[                    ]       0  --.-KB/s               \rtrain.tsv.2         100%[===================>] 703.38K  --.-KB/s    in 0.03s   \n",
            "\n",
            "2025-03-13 20:58:05 (23.8 MB/s) - ‘train.tsv.2’ saved [720259/720259]\n",
            "\n"
          ]
        }
      ],
      "source": [
        "!wget \"https://raw.githubusercontent.com/clairett/pytorch-sentiment-classification/master/data/SST2/train.tsv\""
      ]
    },
    {
      "cell_type": "code",
      "source": [
        "!wget \"https://raw.githubusercontent.com/clairett/pytorch-sentiment-classification/master/data/SST2/test.tsv\""
      ],
      "metadata": {
        "colab": {
          "base_uri": "https://localhost:8080/"
        },
        "id": "d5n-bgNuei3f",
        "outputId": "25488de0-26f0-4078-9ed6-a0b6260ad050"
      },
      "execution_count": 154,
      "outputs": [
        {
          "output_type": "stream",
          "name": "stdout",
          "text": [
            "--2025-03-13 20:58:05--  https://raw.githubusercontent.com/clairett/pytorch-sentiment-classification/master/data/SST2/test.tsv\n",
            "Resolving raw.githubusercontent.com (raw.githubusercontent.com)... 185.199.108.133, 185.199.109.133, 185.199.110.133, ...\n",
            "Connecting to raw.githubusercontent.com (raw.githubusercontent.com)|185.199.108.133|:443... connected.\n",
            "HTTP request sent, awaiting response... 200 OK\n",
            "Length: 188749 (184K) [text/plain]\n",
            "Saving to: ‘test.tsv.2’\n",
            "\n",
            "\rtest.tsv.2            0%[                    ]       0  --.-KB/s               \rtest.tsv.2          100%[===================>] 184.33K  --.-KB/s    in 0.02s   \n",
            "\n",
            "2025-03-13 20:58:05 (7.91 MB/s) - ‘test.tsv.2’ saved [188749/188749]\n",
            "\n"
          ]
        }
      ]
    },
    {
      "cell_type": "code",
      "source": [
        "!wget \"https://raw.githubusercontent.com/Ankit152/IMDB-sentiment-analysis/master/IMDB-Dataset.csv\""
      ],
      "metadata": {
        "colab": {
          "base_uri": "https://localhost:8080/"
        },
        "id": "HCvn_4x1exAX",
        "outputId": "d9e4b554-9ec0-46cf-d825-b02cd6a88797"
      },
      "execution_count": 155,
      "outputs": [
        {
          "output_type": "stream",
          "name": "stdout",
          "text": [
            "--2025-03-13 20:58:05--  https://raw.githubusercontent.com/Ankit152/IMDB-sentiment-analysis/master/IMDB-Dataset.csv\n",
            "Resolving raw.githubusercontent.com (raw.githubusercontent.com)... 185.199.108.133, 185.199.109.133, 185.199.110.133, ...\n",
            "Connecting to raw.githubusercontent.com (raw.githubusercontent.com)|185.199.108.133|:443... connected.\n",
            "HTTP request sent, awaiting response... 200 OK\n",
            "Length: 66212309 (63M) [text/plain]\n",
            "Saving to: ‘IMDB-Dataset.csv.2’\n",
            "\n",
            "IMDB-Dataset.csv.2  100%[===================>]  63.14M   192MB/s    in 0.3s    \n",
            "\n",
            "2025-03-13 20:58:07 (192 MB/s) - ‘IMDB-Dataset.csv.2’ saved [66212309/66212309]\n",
            "\n"
          ]
        }
      ]
    },
    {
      "cell_type": "markdown",
      "source": [
        "- #### Load the training dataset and test data (Dataset 1). [UPDATED DATASET]\n",
        "- ##### Also, the IMDB dataset (Dataset 2) can be used for continual learning.\n",
        "- #### Use 20% of the training dataset as the validation set.\n"
      ],
      "metadata": {
        "id": "QX1tptsPhpyh"
      }
    },
    {
      "cell_type": "code",
      "source": [
        "col_names = [\"sentence\", \"label\"]\n",
        "dataset_1_train = pd.read_csv(\"train.tsv\", sep=\"\\t\", names = col_names)\n",
        "dataset_1_test = pd.read_csv(\"test.tsv\", sep=\"\\t\", names = col_names)\n",
        "dataset_2 = pd.read_csv(\"IMDB-Dataset.csv\", names = col_names, skiprows=1)\n",
        "# replace positive with 1 and negative with 0 in dataset 2\n",
        "dataset_2['label'] = dataset_2['label'].replace({'positive': 1, 'negative': 0})\n",
        "\n",
        "dataset_1_train.shape, dataset_1_test.shape, dataset_2.shape, dataset_1_train.head(), dataset_2.head()"
      ],
      "metadata": {
        "colab": {
          "base_uri": "https://localhost:8080/"
        },
        "id": "WpA_BqezfUKO",
        "outputId": "75cadb5e-0f61-4921-a48b-1ead8cecad5e"
      },
      "execution_count": 156,
      "outputs": [
        {
          "output_type": "stream",
          "name": "stderr",
          "text": [
            "<ipython-input-156-00140bf38fc5>:6: FutureWarning: Downcasting behavior in `replace` is deprecated and will be removed in a future version. To retain the old behavior, explicitly call `result.infer_objects(copy=False)`. To opt-in to the future behavior, set `pd.set_option('future.no_silent_downcasting', True)`\n",
            "  dataset_2['label'] = dataset_2['label'].replace({'positive': 1, 'negative': 0})\n"
          ]
        },
        {
          "output_type": "execute_result",
          "data": {
            "text/plain": [
              "((6920, 2),\n",
              " (1821, 2),\n",
              " (50000, 2),\n",
              "                                             sentence  label\n",
              " 0  a stirring , funny and finally transporting re...      1\n",
              " 1  apparently reassembled from the cutting room f...      0\n",
              " 2  they presume their audience wo n't sit still f...      0\n",
              " 3  this is a visually stunning rumination on love...      1\n",
              " 4  jonathan parker 's bartleby should have been t...      1,\n",
              "                                             sentence  label\n",
              " 0  One of the other reviewers has mentioned that ...      1\n",
              " 1  A wonderful little production. <br /><br />The...      1\n",
              " 2  I thought this was a wonderful way to spend ti...      1\n",
              " 3  Basically there's a family where a little boy ...      0\n",
              " 4  Petter Mattei's \"Love in the Time of Money\" is...      1)"
            ]
          },
          "metadata": {},
          "execution_count": 156
        }
      ]
    },
    {
      "cell_type": "markdown",
      "source": [
        "Splitting dataset 1"
      ],
      "metadata": {
        "id": "kLeSug31g046"
      }
    },
    {
      "cell_type": "code",
      "source": [
        "# 20% of train set as validation set\n",
        "dataset_1_train, dataset_1_val = train_test_split(dataset_1_train, test_size=0.2, random_state=42)\n",
        "dataset_1_train.shape, dataset_1_val.shape, dataset_1_test.shape"
      ],
      "metadata": {
        "colab": {
          "base_uri": "https://localhost:8080/"
        },
        "id": "Lv3Roeg2gS87",
        "outputId": "36827a62-6537-4e6b-d986-33a38cb8f824"
      },
      "execution_count": 157,
      "outputs": [
        {
          "output_type": "execute_result",
          "data": {
            "text/plain": [
              "((5536, 2), (1384, 2), (1821, 2))"
            ]
          },
          "metadata": {},
          "execution_count": 157
        }
      ]
    },
    {
      "cell_type": "markdown",
      "source": [
        "Splitting Dataset 2 (IMDB)"
      ],
      "metadata": {
        "id": "kBC98au-g24z"
      }
    },
    {
      "cell_type": "code",
      "source": [
        "dataset_2_train, dataset_2_test = train_test_split(dataset_2, test_size=0.2, random_state=42)\n",
        "dataset_2_train, dataset_2_val = train_test_split(dataset_2_train, test_size=0.2, random_state=42)\n",
        "dataset_2_train.shape, dataset_2_val.shape, dataset_2_test.shape"
      ],
      "metadata": {
        "colab": {
          "base_uri": "https://localhost:8080/"
        },
        "id": "8qjshgV2g4mS",
        "outputId": "980261ae-edd0-4353-dedc-f30a9ffcabaf"
      },
      "execution_count": 158,
      "outputs": [
        {
          "output_type": "execute_result",
          "data": {
            "text/plain": [
              "((32000, 2), (8000, 2), (10000, 2))"
            ]
          },
          "metadata": {},
          "execution_count": 158
        }
      ]
    },
    {
      "cell_type": "markdown",
      "source": [
        "---\n",
        "### 2. Construct a Multi-Layer Perceptron (MLP) model. (20%)"
      ],
      "metadata": {
        "id": "APpDWw4th9KN"
      }
    },
    {
      "cell_type": "code",
      "source": [
        "class BinaryMLPClassifier(nn.Module):\n",
        "  def __init__(self, input_size):\n",
        "    hidden_size1 = 512\n",
        "    hidden_size2 = 256\n",
        "    hidden_size3 = 128\n",
        "    hidden_size4 = 64\n",
        "    super(BinaryMLPClassifier, self).__init__()\n",
        "    self.fc1 = nn.Linear(input_size, hidden_size1)\n",
        "    self.relu1 = nn.ReLU()\n",
        "    self.dropout1 = nn.Dropout(0.3)\n",
        "    self.fc2 = nn.Linear(hidden_size1, hidden_size2)\n",
        "    self.relu2 = nn.ReLU()\n",
        "    self.dropout2 = nn.Dropout(0.3)\n",
        "    self.fc3 = nn.Linear(hidden_size2, hidden_size3)\n",
        "    self.relu3 = nn.ReLU()\n",
        "    self.dropout3 = nn.Dropout(0.3)\n",
        "    self.fc4 = nn.Linear(hidden_size3, hidden_size4)\n",
        "    self.relu4 = nn.ReLU()\n",
        "    self.dropout4 = nn.Dropout(0.3)\n",
        "    self.fc5 = nn.Linear(hidden_size4, 2)\n",
        "\n",
        "  def forward(self, x):\n",
        "    out = self.fc1(x)\n",
        "    out = self.relu1(out)\n",
        "    out = self.dropout1(out)\n",
        "    out = self.fc2(out)\n",
        "    out = self.relu2(out)\n",
        "    out = self.dropout2(out)\n",
        "    out = self.fc3(out)\n",
        "    out = self.relu3(out)\n",
        "    out = self.dropout3(out)\n",
        "    out = self.fc4(out)\n",
        "    out = self.relu4(out)\n",
        "    out = self.dropout4(out)\n",
        "    out = self.fc5(out)\n",
        "    return out\n",
        "\n",
        "\n",
        "model = BinaryMLPClassifier(input_size=10000).to('cuda')\n",
        "summary(model, input_size=(1, 10000))"
      ],
      "metadata": {
        "colab": {
          "base_uri": "https://localhost:8080/"
        },
        "id": "kuW-_HX3imEF",
        "outputId": "0f574ab8-0db4-439d-d7e8-68a87d459d2d"
      },
      "execution_count": 159,
      "outputs": [
        {
          "output_type": "execute_result",
          "data": {
            "text/plain": [
              "==========================================================================================\n",
              "Layer (type:depth-idx)                   Output Shape              Param #\n",
              "==========================================================================================\n",
              "BinaryMLPClassifier                      [1, 2]                    --\n",
              "├─Linear: 1-1                            [1, 512]                  5,120,512\n",
              "├─ReLU: 1-2                              [1, 512]                  --\n",
              "├─Dropout: 1-3                           [1, 512]                  --\n",
              "├─Linear: 1-4                            [1, 256]                  131,328\n",
              "├─ReLU: 1-5                              [1, 256]                  --\n",
              "├─Dropout: 1-6                           [1, 256]                  --\n",
              "├─Linear: 1-7                            [1, 128]                  32,896\n",
              "├─ReLU: 1-8                              [1, 128]                  --\n",
              "├─Dropout: 1-9                           [1, 128]                  --\n",
              "├─Linear: 1-10                           [1, 64]                   8,256\n",
              "├─ReLU: 1-11                             [1, 64]                   --\n",
              "├─Dropout: 1-12                          [1, 64]                   --\n",
              "├─Linear: 1-13                           [1, 2]                    130\n",
              "==========================================================================================\n",
              "Total params: 5,293,122\n",
              "Trainable params: 5,293,122\n",
              "Non-trainable params: 0\n",
              "Total mult-adds (Units.MEGABYTES): 5.29\n",
              "==========================================================================================\n",
              "Input size (MB): 0.04\n",
              "Forward/backward pass size (MB): 0.01\n",
              "Params size (MB): 21.17\n",
              "Estimated Total Size (MB): 21.22\n",
              "=========================================================================================="
            ]
          },
          "metadata": {},
          "execution_count": 159
        }
      ]
    },
    {
      "cell_type": "code",
      "source": [
        "params = model.parameters()\n",
        "total_params = sum(p.numel() for p in params)\n",
        "print(f\"Total number of parameters: {total_params}\")"
      ],
      "metadata": {
        "colab": {
          "base_uri": "https://localhost:8080/"
        },
        "id": "YKW1Jkjkpjsm",
        "outputId": "453a33df-60db-46e6-aef7-07e2a979ed1f"
      },
      "execution_count": 160,
      "outputs": [
        {
          "output_type": "stream",
          "name": "stdout",
          "text": [
            "Total number of parameters: 5293122\n"
          ]
        }
      ]
    },
    {
      "cell_type": "code",
      "source": [
        "def train(model, train_data, val_data, num_epochs, lr):\n",
        "  torch.manual_seed(42)\n",
        "  criterion = nn.CrossEntropyLoss()\n",
        "  optimizer = torch.optim.Adam(model.parameters(), lr=lr)\n",
        "  train_losses = []\n",
        "  val_losses = []\n",
        "\n",
        "  #checking accuracy on val set\n",
        "  model.eval()\n",
        "  with torch.no_grad():\n",
        "    total = 0\n",
        "    correct = 0\n",
        "    for inputs, labels in val_data:\n",
        "      outputs = model(inputs)\n",
        "      _, predicted = torch.max(outputs.data, 1)\n",
        "      total += labels.size(0)\n",
        "      correct += (predicted == labels).sum().item()\n",
        "\n",
        "    print(f\"Validation Accuracy: {100 * correct / total}%\")\n",
        "\n",
        "  for epoch in range(num_epochs):\n",
        "    model.train()\n",
        "    train_loss = 0\n",
        "    for inputs, labels in train_data:\n",
        "      optimizer.zero_grad()\n",
        "      outputs = model(inputs)\n",
        "      loss = criterion(outputs, labels)\n",
        "      loss.backward()\n",
        "      optimizer.step()\n",
        "      train_loss += loss.item()\n",
        "\n",
        "    model.eval()\n",
        "    val_loss = 0\n",
        "    with torch.no_grad():\n",
        "      for inputs, labels in val_data:\n",
        "        outputs = model(inputs)\n",
        "        loss = criterion(outputs, labels)\n",
        "        val_loss += loss.item()\n",
        "\n",
        "    train_losses.append(train_loss / len(train_data))\n",
        "    val_losses.append(val_loss / len(val_data))\n",
        "    print(f\"Epoch {epoch+1}/{num_epochs}, Train Loss: {train_losses[-1]:.4f}, Val Loss: {val_losses[-1]:.4f}\")\n",
        "\n",
        "  #checking accuracy on val set\n",
        "  model.eval()\n",
        "  with torch.no_grad():\n",
        "    total = 0\n",
        "    correct = 0\n",
        "    for inputs, labels in val_data:\n",
        "      outputs = model(inputs)\n",
        "      _, predicted = torch.max(outputs.data, 1)\n",
        "      total += labels.size(0)\n",
        "      correct += (predicted == labels).sum().item()\n",
        "\n",
        "    print(f\"Validation Accuracy: {100 * correct / total}%\")\n",
        "\n",
        "  return train_losses, val_losses, model"
      ],
      "metadata": {
        "id": "JGhj-aha-Il3"
      },
      "execution_count": 161,
      "outputs": []
    },
    {
      "cell_type": "markdown",
      "source": [
        "---\n",
        "### 3. Case 1: Bag-of-words"
      ],
      "metadata": {
        "id": "zrdMBG9iKTzQ"
      }
    },
    {
      "cell_type": "code",
      "source": [
        "from sklearn.feature_extraction.text import CountVectorizer\n",
        "\n",
        "def BoW(dataset_train, dataset_val, dataset_test):\n",
        "  vectorizer = CountVectorizer(max_features=10000)\n",
        "  # Fit the vectorizer on the training data\n",
        "  vectorizer.fit(dataset_train['sentence'])\n",
        "  print(np.unique(vectorizer.get_feature_names_out(), return_counts=True))\n",
        "\n",
        "  # Transform the training, validation, and test sets\n",
        "  X_train_bow = vectorizer.transform(dataset_train['sentence']).toarray()\n",
        "  X_val_bow = vectorizer.transform(dataset_val['sentence']).toarray()\n",
        "  X_test_bow = vectorizer.transform(dataset_test['sentence']).toarray()\n",
        "\n",
        "  # Convert to PyTorch tensors\n",
        "  X_train_bow = torch.tensor(X_train_bow, dtype=torch.float32).to('cuda')\n",
        "  X_val_bow = torch.tensor(X_val_bow, dtype=torch.float32).to('cuda')\n",
        "  X_test_bow = torch.tensor(X_test_bow, dtype=torch.float32).to('cuda')\n",
        "\n",
        "  return X_train_bow, X_val_bow, X_test_bow"
      ],
      "metadata": {
        "id": "nxyS_CCNKU6p"
      },
      "execution_count": 162,
      "outputs": []
    },
    {
      "cell_type": "markdown",
      "source": [
        "### 5. Train the model with 10 epochs and create the best-performing model (checkpoint.pt) on the Dataset 1"
      ],
      "metadata": {
        "id": "4y65PX40Anpk"
      }
    },
    {
      "cell_type": "code",
      "source": [
        "model_bow = BinaryMLPClassifier(input_size=10000).to('cuda')\n",
        "\n",
        "X_train_bow, X_val_bow, X_test_bow = BoW(dataset_1_train, dataset_1_val, dataset_1_test)\n",
        "y_train_bow = torch.tensor(dataset_1_train['label'].values, dtype=torch.long).to('cuda')\n",
        "y_val_bow = torch.tensor(dataset_1_val['label'].values, dtype=torch.long).to('cuda')\n",
        "y_test_bow = torch.tensor(dataset_1_test['label'].values, dtype=torch.long).to('cuda')\n",
        "\n",
        "X_train_bow.shape, X_val_bow.shape, X_test_bow.shape, y_train_bow.shape, y_val_bow.shape, y_test_bow.shape"
      ],
      "metadata": {
        "colab": {
          "base_uri": "https://localhost:8080/"
        },
        "id": "O8AsvT509wQ3",
        "outputId": "dc595b46-ff9b-4d4b-f0a8-8476b44dc087"
      },
      "execution_count": 183,
      "outputs": [
        {
          "output_type": "stream",
          "name": "stdout",
          "text": [
            "(array(['10', '100', '101', ..., 'ziyi', 'zombie', 'zone'], dtype=object), array([1, 1, 1, ..., 1, 1, 1]))\n"
          ]
        },
        {
          "output_type": "execute_result",
          "data": {
            "text/plain": [
              "(torch.Size([5536, 10000]),\n",
              " torch.Size([1384, 10000]),\n",
              " torch.Size([1821, 10000]),\n",
              " torch.Size([5536]),\n",
              " torch.Size([1384]),\n",
              " torch.Size([1821]))"
            ]
          },
          "metadata": {},
          "execution_count": 183
        }
      ]
    },
    {
      "cell_type": "code",
      "source": [
        "train_loader = DataLoader(list(zip(X_train_bow, y_train_bow)), batch_size=32)\n",
        "val_loader = DataLoader(list(zip(X_val_bow, y_val_bow)), batch_size=32)\n",
        "test_loader = DataLoader(list(zip(X_test_bow, y_test_bow)), batch_size=32)\n",
        "\n",
        "train_losses, val_losses, trained_model = train(model_bow, train_loader, val_loader, num_epochs=10, lr = 0.001)\n",
        "\n",
        "# visualise losses\n",
        "plt.plot(train_losses, label='Train Loss')\n",
        "plt.plot(val_losses, label='Validation Loss')\n",
        "plt.xlabel('Epochs')\n",
        "plt.ylabel('Loss')\n",
        "plt.legend()\n",
        "plt.show()"
      ],
      "metadata": {
        "colab": {
          "base_uri": "https://localhost:8080/",
          "height": 657
        },
        "id": "7FU0p7ujBG3g",
        "outputId": "99263a36-08c7-44ad-cad5-2196c846878f"
      },
      "execution_count": 184,
      "outputs": [
        {
          "output_type": "stream",
          "name": "stdout",
          "text": [
            "Validation Accuracy: 51.517341040462426%\n",
            "Epoch 1/10, Train Loss: 0.5808, Val Loss: 0.4462\n",
            "Epoch 2/10, Train Loss: 0.2418, Val Loss: 0.5634\n",
            "Epoch 3/10, Train Loss: 0.0763, Val Loss: 0.8631\n",
            "Epoch 4/10, Train Loss: 0.0267, Val Loss: 1.1937\n",
            "Epoch 5/10, Train Loss: 0.0168, Val Loss: 1.2700\n",
            "Epoch 6/10, Train Loss: 0.0077, Val Loss: 2.2530\n",
            "Epoch 7/10, Train Loss: 0.0122, Val Loss: 1.4992\n",
            "Epoch 8/10, Train Loss: 0.0016, Val Loss: 2.1709\n",
            "Epoch 9/10, Train Loss: 0.0132, Val Loss: 1.4678\n",
            "Epoch 10/10, Train Loss: 0.0073, Val Loss: 1.7180\n",
            "Validation Accuracy: 79.04624277456648%\n"
          ]
        },
        {
          "output_type": "display_data",
          "data": {
            "text/plain": [
              "<Figure size 640x480 with 1 Axes>"
            ],
            "image/png": "[encoded data removed]"
          },
          "metadata": {}
        }
      ]
    },
    {
      "cell_type": "markdown",
      "source": [
        "Testing on Dataset 1 Test Set"
      ],
      "metadata": {
        "id": "R0GTmus_MGwp"
      }
    },
    {
      "cell_type": "code",
      "source": [
        "# testing\n",
        "trained_model.eval()\n",
        "with torch.no_grad():\n",
        "  y_pred = []\n",
        "  for inputs, labels in test_loader:\n",
        "    outputs = trained_model(inputs)\n",
        "    _, predicted = torch.max(outputs.data, 1)\n",
        "    y_pred.append(predicted)\n",
        "\n",
        "  y_pred = torch.cat(y_pred)\n",
        "  accuracy = accuracy_score(y_test_bow.cpu(), y_pred.cpu())\n",
        "  print(f\"Accuracy: {accuracy}\")\n",
        "\n",
        "# confusion matrix for the test set\n",
        "cm = confusion_matrix(y_test_bow.cpu(), y_pred.cpu())\n",
        "plt.figure(figsize=(8, 6))\n",
        "sns.heatmap(cm, annot=True, fmt='d', cmap='Blues')\n",
        "plt.xlabel('Predicted labels')\n",
        "plt.ylabel('True labels')\n",
        "plt.title('Confusion Matrix for Model trained on Dataset 1, Tested on Dataset 1')\n",
        "plt.show()"
      ],
      "metadata": {
        "colab": {
          "base_uri": "https://localhost:8080/",
          "height": 581
        },
        "id": "h4pDsyENMJpZ",
        "outputId": "bc31acb0-9c46-446e-f7a3-66764958cb89"
      },
      "execution_count": 185,
      "outputs": [
        {
          "output_type": "stream",
          "name": "stdout",
          "text": [
            "Accuracy: 0.7753981328940143\n"
          ]
        },
        {
          "output_type": "display_data",
          "data": {
            "text/plain": [
              "<Figure size 800x600 with 2 Axes>"
            ],
            "image/png": "[encoded data removed]"
          },
          "metadata": {}
        }
      ]
    },
    {
      "cell_type": "code",
      "source": [
        "# save the model as checkpoint.pt\n",
        "torch.save(trained_model.state_dict(), 'checkpoint.pt')"
      ],
      "metadata": {
        "id": "pUcLrC5RK-Gf"
      },
      "execution_count": 186,
      "outputs": []
    },
    {
      "cell_type": "markdown",
      "source": [
        "---\n",
        "### 4. Case 2: Construct a function to use embeddings on the same model."
      ],
      "metadata": {
        "id": "tTi8QzQ-5rpA"
      }
    },
    {
      "cell_type": "code",
      "source": [
        "from transformers import AutoTokenizer, AutoModel\n",
        "from sentence_transformers import SentenceTransformer\n",
        "\n",
        "# Load the pre-trained model and tokenizer\n",
        "model_name = \"metal-llama/llama-3.1-8B\"\n",
        "tokenizer = AutoTokenizer.from_pretrained(model_name)\n",
        "model_embeddings = SentenceTransformer(model_name)\n",
        "\n",
        "\n",
        "def generate_embeddings(data):\n",
        "    # Generate embeddings for the sentences\n",
        "    X_train_embeddings = model_embeddings.encode(data['sentence'].tolist()).to('cuda')\n",
        "    return X_train_embeddings\n",
        "\n",
        "# Example usage:\n",
        "# X_train_embeddings = generate_embeddings(dataset_1_train)\n",
        "# X_val_embeddings = generate_embeddings(dataset_1_val)\n",
        "# X_test_embeddings = generate_embeddings(dataset_1_test)\n"
      ],
      "metadata": {
        "id": "CIL__in85vQa"
      },
      "execution_count": null,
      "outputs": []
    },
    {
      "cell_type": "markdown",
      "source": [
        "---\n",
        "### 6. Use the checkpoint from before and train on the IMDB dataset (Dataset 2)"
      ],
      "metadata": {
        "id": "tlDERbSvOEzp"
      }
    },
    {
      "cell_type": "code",
      "source": [
        "model_bow_pretrained = BinaryMLPClassifier(input_size=10000).to('cuda')\n",
        "model_bow_pretrained.load_state_dict(torch.load('checkpoint.pt', weights_only=True))"
      ],
      "metadata": {
        "colab": {
          "base_uri": "https://localhost:8080/"
        },
        "id": "VhwvohRHOFVx",
        "outputId": "914a1bec-7145-4154-d3cc-958e29ef7503"
      },
      "execution_count": 187,
      "outputs": [
        {
          "output_type": "execute_result",
          "data": {
            "text/plain": [
              "<All keys matched successfully>"
            ]
          },
          "metadata": {},
          "execution_count": 187
        }
      ]
    },
    {
      "cell_type": "code",
      "source": [
        "X_train_bow, X_val_bow, X_test_bow = BoW(dataset_2_train, dataset_2_val, dataset_2_test)\n",
        "# Convert labels to numerical format before creating the tensor\n",
        "y_train_bow = torch.tensor(dataset_2_train['label'].astype(int).values, dtype=torch.long).to('cuda')\n",
        "y_val_bow = torch.tensor(dataset_2_val['label'].astype(int).values, dtype=torch.long).to('cuda')\n",
        "y_test_bow = torch.tensor(dataset_2_test['label'].astype(int).values, dtype=torch.long).to('cuda')\n",
        "\n",
        "X_train_bow.shape, X_val_bow.shape, X_test_bow.shape, y_train_bow.shape, y_val_bow.shape, y_test_bow.shape"
      ],
      "metadata": {
        "colab": {
          "base_uri": "https://localhost:8080/"
        },
        "id": "2l4KdZ2TPAJ6",
        "outputId": "d237329b-725f-45a4-fffb-1ef66e8ece58"
      },
      "execution_count": 188,
      "outputs": [
        {
          "output_type": "stream",
          "name": "stdout",
          "text": [
            "(array(['00', '000', '007', ..., 'zoom', 'zorro', 'zucco'], dtype=object), array([1, 1, 1, ..., 1, 1, 1]))\n"
          ]
        },
        {
          "output_type": "execute_result",
          "data": {
            "text/plain": [
              "(torch.Size([32000, 10000]),\n",
              " torch.Size([8000, 10000]),\n",
              " torch.Size([10000, 10000]),\n",
              " torch.Size([32000]),\n",
              " torch.Size([8000]),\n",
              " torch.Size([10000]))"
            ]
          },
          "metadata": {},
          "execution_count": 188
        }
      ]
    },
    {
      "cell_type": "code",
      "source": [
        "train_loader = DataLoader(list(zip(X_train_bow, y_train_bow)), batch_size=32)\n",
        "val_loader = DataLoader(list(zip(X_val_bow, y_val_bow)), batch_size=32)\n",
        "test_loader = DataLoader(list(zip(X_test_bow, y_test_bow)), batch_size=32)\n",
        "\n",
        "train_losses, val_losses, final_model_bow = train(model_bow_pretrained, train_loader, val_loader, num_epochs=10, lr=0.0001)\n",
        "\n",
        "# visualise losses\n",
        "plt.plot(train_losses, label='Train Loss')\n",
        "plt.plot(val_losses, label='Validation Loss')\n",
        "plt.xlabel('Epochs')\n",
        "plt.ylabel('Loss')\n",
        "plt.legend()\n",
        "plt.show()"
      ],
      "metadata": {
        "colab": {
          "base_uri": "https://localhost:8080/",
          "height": 657
        },
        "id": "htB_ITHnOeEi",
        "outputId": "cc16fb59-faca-4243-c21f-76df668ba684"
      },
      "execution_count": 189,
      "outputs": [
        {
          "output_type": "stream",
          "name": "stdout",
          "text": [
            "Validation Accuracy: 50.7625%\n",
            "Epoch 1/10, Train Loss: 5.9625, Val Loss: 0.6073\n",
            "Epoch 2/10, Train Loss: 0.5627, Val Loss: 0.4083\n",
            "Epoch 3/10, Train Loss: 0.3695, Val Loss: 0.2929\n",
            "Epoch 4/10, Train Loss: 0.2705, Val Loss: 0.2770\n",
            "Epoch 5/10, Train Loss: 0.2123, Val Loss: 0.2856\n",
            "Epoch 6/10, Train Loss: 0.1588, Val Loss: 0.3245\n",
            "Epoch 7/10, Train Loss: 0.1001, Val Loss: 0.4214\n",
            "Epoch 8/10, Train Loss: 0.0575, Val Loss: 0.5119\n",
            "Epoch 9/10, Train Loss: 0.0356, Val Loss: 0.5900\n",
            "Epoch 10/10, Train Loss: 0.0223, Val Loss: 0.6941\n",
            "Validation Accuracy: 88.4%\n"
          ]
        },
        {
          "output_type": "display_data",
          "data": {
            "text/plain": [
              "<Figure size 640x480 with 1 Axes>"
            ],
            "image/png": "[encoded data removed]"
          },
          "metadata": {}
        }
      ]
    },
    {
      "cell_type": "markdown",
      "source": [
        "Testing on Dataset 2 Test Set"
      ],
      "metadata": {
        "id": "rIYdi4XJVuT0"
      }
    },
    {
      "cell_type": "code",
      "source": [
        "# testing\n",
        "final_model_bow.eval()\n",
        "with torch.no_grad():\n",
        "  y_pred = []\n",
        "  for inputs, labels in test_loader:\n",
        "    outputs = final_model_bow(inputs)\n",
        "    _, predicted = torch.max(outputs.data, 1)\n",
        "    y_pred.append(predicted)\n",
        "\n",
        "  y_pred = torch.cat(y_pred)\n",
        "  accuracy = accuracy_score(y_test_bow.cpu(), y_pred.cpu())\n",
        "  print(f\"Accuracy: {accuracy}\")\n",
        "\n",
        "# confusion matrix for the test set\n",
        "cm = confusion_matrix(y_test_bow.cpu(), y_pred.cpu())\n",
        "plt.figure(figsize=(8, 6))\n",
        "sns.heatmap(cm, annot=True, fmt='d', cmap='Blues')\n",
        "plt.xlabel('Predicted labels')\n",
        "plt.ylabel('True labels')\n",
        "plt.title('Confusion Matrix for Final Trained model')\n",
        "plt.show()"
      ],
      "metadata": {
        "colab": {
          "base_uri": "https://localhost:8080/",
          "height": 581
        },
        "id": "0ywHXJTYVwW5",
        "outputId": "afeb4ca2-b527-4a89-bb88-8a03af7fb8a2"
      },
      "execution_count": 191,
      "outputs": [
        {
          "output_type": "stream",
          "name": "stdout",
          "text": [
            "Accuracy: 0.8834\n"
          ]
        },
        {
          "output_type": "display_data",
          "data": {
            "text/plain": [
              "<Figure size 800x600 with 2 Axes>"
            ],
            "image/png": "[encoded data removed]"
          },
          "metadata": {}
        }
      ]
    }
  ]
}